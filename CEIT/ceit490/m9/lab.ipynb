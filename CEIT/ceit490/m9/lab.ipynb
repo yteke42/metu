{
 "cells": [
  {
   "cell_type": "code",
   "execution_count": 1,
   "metadata": {},
   "outputs": [
    {
     "name": "stdout",
     "output_type": "stream",
     "text": [
      "Requirement already satisfied: langchain-openai in c:\\users\\yunus\\desktop\\yeni klasör\\.venv\\lib\\site-packages (0.2.14)\n",
      "Collecting langgraph\n",
      "  Downloading langgraph-0.2.60-py3-none-any.whl.metadata (15 kB)\n",
      "Requirement already satisfied: python-dotenv in c:\\users\\yunus\\desktop\\yeni klasör\\.venv\\lib\\site-packages (1.0.1)\n",
      "Requirement already satisfied: langchain-core<0.4.0,>=0.3.27 in c:\\users\\yunus\\desktop\\yeni klasör\\.venv\\lib\\site-packages (from langchain-openai) (0.3.28)\n",
      "Requirement already satisfied: openai<2.0.0,>=1.58.1 in c:\\users\\yunus\\desktop\\yeni klasör\\.venv\\lib\\site-packages (from langchain-openai) (1.58.1)\n",
      "Requirement already satisfied: tiktoken<1,>=0.7 in c:\\users\\yunus\\desktop\\yeni klasör\\.venv\\lib\\site-packages (from langchain-openai) (0.8.0)\n",
      "Collecting langgraph-checkpoint<3.0.0,>=2.0.4 (from langgraph)\n",
      "  Downloading langgraph_checkpoint-2.0.9-py3-none-any.whl.metadata (4.6 kB)\n",
      "Collecting langgraph-sdk<0.2.0,>=0.1.42 (from langgraph)\n",
      "  Downloading langgraph_sdk-0.1.48-py3-none-any.whl.metadata (1.8 kB)\n",
      "Requirement already satisfied: PyYAML>=5.3 in c:\\users\\yunus\\desktop\\yeni klasör\\.venv\\lib\\site-packages (from langchain-core<0.4.0,>=0.3.27->langchain-openai) (6.0.2)\n",
      "Requirement already satisfied: jsonpatch<2.0,>=1.33 in c:\\users\\yunus\\desktop\\yeni klasör\\.venv\\lib\\site-packages (from langchain-core<0.4.0,>=0.3.27->langchain-openai) (1.33)\n",
      "Requirement already satisfied: langsmith<0.3,>=0.1.125 in c:\\users\\yunus\\desktop\\yeni klasör\\.venv\\lib\\site-packages (from langchain-core<0.4.0,>=0.3.27->langchain-openai) (0.2.6)\n",
      "Requirement already satisfied: packaging<25,>=23.2 in c:\\users\\yunus\\desktop\\yeni klasör\\.venv\\lib\\site-packages (from langchain-core<0.4.0,>=0.3.27->langchain-openai) (24.2)\n",
      "Requirement already satisfied: pydantic<3.0.0,>=2.5.2 in c:\\users\\yunus\\desktop\\yeni klasör\\.venv\\lib\\site-packages (from langchain-core<0.4.0,>=0.3.27->langchain-openai) (2.10.4)\n",
      "Requirement already satisfied: tenacity!=8.4.0,<10.0.0,>=8.1.0 in c:\\users\\yunus\\desktop\\yeni klasör\\.venv\\lib\\site-packages (from langchain-core<0.4.0,>=0.3.27->langchain-openai) (9.0.0)\n",
      "Requirement already satisfied: typing-extensions>=4.7 in c:\\users\\yunus\\desktop\\yeni klasör\\.venv\\lib\\site-packages (from langchain-core<0.4.0,>=0.3.27->langchain-openai) (4.12.2)\n",
      "Collecting msgpack<2.0.0,>=1.1.0 (from langgraph-checkpoint<3.0.0,>=2.0.4->langgraph)\n",
      "  Using cached msgpack-1.1.0-cp310-cp310-win_amd64.whl.metadata (8.6 kB)\n",
      "Requirement already satisfied: httpx>=0.25.2 in c:\\users\\yunus\\desktop\\yeni klasör\\.venv\\lib\\site-packages (from langgraph-sdk<0.2.0,>=0.1.42->langgraph) (0.28.1)\n",
      "Requirement already satisfied: orjson>=3.10.1 in c:\\users\\yunus\\desktop\\yeni klasör\\.venv\\lib\\site-packages (from langgraph-sdk<0.2.0,>=0.1.42->langgraph) (3.10.12)\n",
      "Requirement already satisfied: anyio<5,>=3.5.0 in c:\\users\\yunus\\desktop\\yeni klasör\\.venv\\lib\\site-packages (from openai<2.0.0,>=1.58.1->langchain-openai) (4.7.0)\n",
      "Requirement already satisfied: distro<2,>=1.7.0 in c:\\users\\yunus\\desktop\\yeni klasör\\.venv\\lib\\site-packages (from openai<2.0.0,>=1.58.1->langchain-openai) (1.9.0)\n",
      "Requirement already satisfied: jiter<1,>=0.4.0 in c:\\users\\yunus\\desktop\\yeni klasör\\.venv\\lib\\site-packages (from openai<2.0.0,>=1.58.1->langchain-openai) (0.8.2)\n",
      "Requirement already satisfied: sniffio in c:\\users\\yunus\\desktop\\yeni klasör\\.venv\\lib\\site-packages (from openai<2.0.0,>=1.58.1->langchain-openai) (1.3.1)\n",
      "Requirement already satisfied: tqdm>4 in c:\\users\\yunus\\desktop\\yeni klasör\\.venv\\lib\\site-packages (from openai<2.0.0,>=1.58.1->langchain-openai) (4.67.1)\n",
      "Requirement already satisfied: regex>=2022.1.18 in c:\\users\\yunus\\desktop\\yeni klasör\\.venv\\lib\\site-packages (from tiktoken<1,>=0.7->langchain-openai) (2024.11.6)\n",
      "Requirement already satisfied: requests>=2.26.0 in c:\\users\\yunus\\desktop\\yeni klasör\\.venv\\lib\\site-packages (from tiktoken<1,>=0.7->langchain-openai) (2.32.3)\n",
      "Requirement already satisfied: exceptiongroup>=1.0.2 in c:\\users\\yunus\\desktop\\yeni klasör\\.venv\\lib\\site-packages (from anyio<5,>=3.5.0->openai<2.0.0,>=1.58.1->langchain-openai) (1.2.2)\n",
      "Requirement already satisfied: idna>=2.8 in c:\\users\\yunus\\desktop\\yeni klasör\\.venv\\lib\\site-packages (from anyio<5,>=3.5.0->openai<2.0.0,>=1.58.1->langchain-openai) (3.10)\n",
      "Requirement already satisfied: certifi in c:\\users\\yunus\\desktop\\yeni klasör\\.venv\\lib\\site-packages (from httpx>=0.25.2->langgraph-sdk<0.2.0,>=0.1.42->langgraph) (2024.12.14)\n",
      "Requirement already satisfied: httpcore==1.* in c:\\users\\yunus\\desktop\\yeni klasör\\.venv\\lib\\site-packages (from httpx>=0.25.2->langgraph-sdk<0.2.0,>=0.1.42->langgraph) (1.0.7)\n",
      "Requirement already satisfied: h11<0.15,>=0.13 in c:\\users\\yunus\\desktop\\yeni klasör\\.venv\\lib\\site-packages (from httpcore==1.*->httpx>=0.25.2->langgraph-sdk<0.2.0,>=0.1.42->langgraph) (0.14.0)\n",
      "Requirement already satisfied: jsonpointer>=1.9 in c:\\users\\yunus\\desktop\\yeni klasör\\.venv\\lib\\site-packages (from jsonpatch<2.0,>=1.33->langchain-core<0.4.0,>=0.3.27->langchain-openai) (3.0.0)\n",
      "Requirement already satisfied: requests-toolbelt<2.0.0,>=1.0.0 in c:\\users\\yunus\\desktop\\yeni klasör\\.venv\\lib\\site-packages (from langsmith<0.3,>=0.1.125->langchain-core<0.4.0,>=0.3.27->langchain-openai) (1.0.0)\n",
      "Requirement already satisfied: annotated-types>=0.6.0 in c:\\users\\yunus\\desktop\\yeni klasör\\.venv\\lib\\site-packages (from pydantic<3.0.0,>=2.5.2->langchain-core<0.4.0,>=0.3.27->langchain-openai) (0.7.0)\n",
      "Requirement already satisfied: pydantic-core==2.27.2 in c:\\users\\yunus\\desktop\\yeni klasör\\.venv\\lib\\site-packages (from pydantic<3.0.0,>=2.5.2->langchain-core<0.4.0,>=0.3.27->langchain-openai) (2.27.2)\n",
      "Requirement already satisfied: charset-normalizer<4,>=2 in c:\\users\\yunus\\desktop\\yeni klasör\\.venv\\lib\\site-packages (from requests>=2.26.0->tiktoken<1,>=0.7->langchain-openai) (3.4.1)\n",
      "Requirement already satisfied: urllib3<3,>=1.21.1 in c:\\users\\yunus\\desktop\\yeni klasör\\.venv\\lib\\site-packages (from requests>=2.26.0->tiktoken<1,>=0.7->langchain-openai) (2.3.0)\n",
      "Requirement already satisfied: colorama in c:\\users\\yunus\\desktop\\yeni klasör\\.venv\\lib\\site-packages (from tqdm>4->openai<2.0.0,>=1.58.1->langchain-openai) (0.4.6)\n",
      "Downloading langgraph-0.2.60-py3-none-any.whl (135 kB)\n",
      "Downloading langgraph_checkpoint-2.0.9-py3-none-any.whl (37 kB)\n",
      "Downloading langgraph_sdk-0.1.48-py3-none-any.whl (43 kB)\n",
      "Using cached msgpack-1.1.0-cp310-cp310-win_amd64.whl (74 kB)\n",
      "Installing collected packages: msgpack, langgraph-sdk, langgraph-checkpoint, langgraph\n",
      "Successfully installed langgraph-0.2.60 langgraph-checkpoint-2.0.9 langgraph-sdk-0.1.48 msgpack-1.1.0\n"
     ]
    }
   ],
   "source": [
    "!pip install langchain-openai langgraph python-dotenv\n"
   ]
  },
  {
   "cell_type": "code",
   "execution_count": 2,
   "metadata": {},
   "outputs": [],
   "source": [
    "def function1(input1:str)->str:\n",
    " return input1 + \" Hi\"\n",
    "\n",
    "\n",
    "def function2(input2:str) -> str:\n",
    " return input2+ \" There\""
   ]
  },
  {
   "cell_type": "code",
   "execution_count": 3,
   "metadata": {},
   "outputs": [],
   "source": [
    "from langgraph.graph import Graph\n",
    "Workflow = Graph()\n",
    "Workflow.add_node(\"node_1\", function1)\n",
    "Workflow.add_node(\"node_2\", function2)\n",
    "Workflow.add_edge('node_1', 'node_2')\n",
    "Workflow.set_entry_point(\"node_1\")\n",
    "Workflow.set_finish_point(\"node_2\")\n",
    "\n",
    "app = Workflow.compile()"
   ]
  },
  {
   "cell_type": "code",
   "execution_count": 4,
   "metadata": {},
   "outputs": [
    {
     "data": {
      "text/plain": [
       "'Hello Hi There'"
      ]
     },
     "execution_count": 4,
     "metadata": {},
     "output_type": "execute_result"
    }
   ],
   "source": [
    "app.invoke(\"Hello\")"
   ]
  },
  {
   "cell_type": "code",
   "execution_count": null,
   "metadata": {},
   "outputs": [],
   "source": [
    "from langchain_openai import ChatOpenAI\n",
    "\n",
    "model = ChatOpenAI(temperature=0.8)\n",
    "\n",
    "model.invoke(\"Hey there\").content\n"
   ]
  },
  {
   "cell_type": "code",
   "execution_count": 6,
   "metadata": {},
   "outputs": [],
   "source": [
    "def func1(input1: str)->str:\n",
    "    return model.invoke(input1).content\n",
    "\n",
    "def func2(input2: str)->str:\n",
    "    return \"Agents says:\" + input2\n"
   ]
  },
  {
   "cell_type": "code",
   "execution_count": 7,
   "metadata": {},
   "outputs": [],
   "source": [
    "from langgraph.graph import Graph\n",
    "\n",
    "Workflow = Graph()\n",
    "\n",
    "Workflow.add_node(\"node_1\", func1)\n",
    "Workflow.add_node(\"node_2\", func2)\n",
    "\n",
    "Workflow.add_edge('node_1', 'node_2')\n",
    "\n",
    "Workflow.set_entry_point(\"node_1\")\n",
    "Workflow.set_finish_point(\"node_2\")\n",
    "\n",
    "app = Workflow.compile()\n",
    "\n"
   ]
  },
  {
   "cell_type": "code",
   "execution_count": null,
   "metadata": {},
   "outputs": [],
   "source": [
    "app.invoke(\"aaj date kya h?\")\n"
   ]
  },
  {
   "cell_type": "code",
   "execution_count": 9,
   "metadata": {},
   "outputs": [
    {
     "name": "stdout",
     "output_type": "stream",
     "text": [
      "Collecting pyowm\n",
      "  Downloading pyowm-3.3.0-py3-none-any.whl.metadata (6.8 kB)\n",
      "Requirement already satisfied: requests<3,>=2.20.0 in c:\\users\\yunus\\desktop\\yeni klasör\\.venv\\lib\\site-packages (from pyowm) (2.32.3)\n",
      "Collecting geojson<3,>=2.3.0 (from pyowm)\n",
      "  Downloading geojson-2.5.0-py2.py3-none-any.whl.metadata (15 kB)\n",
      "Collecting PySocks<2,>=1.7.1 (from pyowm)\n",
      "  Using cached PySocks-1.7.1-py3-none-any.whl.metadata (13 kB)\n",
      "Requirement already satisfied: charset-normalizer<4,>=2 in c:\\users\\yunus\\desktop\\yeni klasör\\.venv\\lib\\site-packages (from requests<3,>=2.20.0->pyowm) (3.4.1)\n",
      "Requirement already satisfied: idna<4,>=2.5 in c:\\users\\yunus\\desktop\\yeni klasör\\.venv\\lib\\site-packages (from requests<3,>=2.20.0->pyowm) (3.10)\n",
      "Requirement already satisfied: urllib3<3,>=1.21.1 in c:\\users\\yunus\\desktop\\yeni klasör\\.venv\\lib\\site-packages (from requests<3,>=2.20.0->pyowm) (2.3.0)\n",
      "Requirement already satisfied: certifi>=2017.4.17 in c:\\users\\yunus\\desktop\\yeni klasör\\.venv\\lib\\site-packages (from requests<3,>=2.20.0->pyowm) (2024.12.14)\n",
      "Downloading pyowm-3.3.0-py3-none-any.whl (4.5 MB)\n",
      "   ---------------------------------------- 0.0/4.5 MB ? eta -:--:--\n",
      "   ----------- ---------------------------- 1.3/4.5 MB 8.4 MB/s eta 0:00:01\n",
      "   ---------------------------------------- 4.5/4.5 MB 17.1 MB/s eta 0:00:00\n",
      "Downloading geojson-2.5.0-py2.py3-none-any.whl (14 kB)\n",
      "Using cached PySocks-1.7.1-py3-none-any.whl (16 kB)\n",
      "Installing collected packages: geojson, PySocks, pyowm\n",
      "Successfully installed PySocks-1.7.1 geojson-2.5.0 pyowm-3.3.0\n"
     ]
    }
   ],
   "source": [
    "!pip install pyowm\n"
   ]
  },
  {
   "cell_type": "code",
   "execution_count": null,
   "metadata": {},
   "outputs": [],
   "source": [
    "from langchain_community.utilities import OpenWeatherMapAPIWrapper\n",
    "from dotenv import load_dotenv\n",
    "import os\n",
    "\n",
    "load_dotenv()\n",
    "os.environ[\"f53be1e5e2e4e87654febb35070d7839\"] = os.environ.get(\"f53be1e5e2e4e87654febb35070d7839\")\n",
    "\n",
    "weather = OpenWeatherMapAPIWrapper()\n",
    "\n",
    "weather_data = weather.run(\"New Delhi\")\n",
    "print(weather_data)\n"
   ]
  },
  {
   "cell_type": "code",
   "execution_count": 13,
   "metadata": {},
   "outputs": [],
   "source": [
    "def function1(prompt: str)->str:\n",
    "    complete_prompt = f\"Your task is to provide only the city name based on the user query. Nothing more, just the city name mentioned. Following is the user query: {prompt}\"\n",
    "    return model.invoke(complete_prompt).content\n",
    "\n",
    "def function2(input1: str)->str:\n",
    "    return weather.run(input1)\n"
   ]
  },
  {
   "cell_type": "code",
   "execution_count": null,
   "metadata": {},
   "outputs": [],
   "source": [
    "from langgraph.graph import Graph\n",
    "\n",
    "Workflow = Graph()\n",
    "\n",
    "Workflow.add_node(\"agent\", function1)\n",
    "Workflow.add_node(\"tool\", function2)\n",
    "\n",
    "Workflow.add_edge('agent', 'tool')\n",
    "\n",
    "Workflow.set_entry_point(\"agent\")\n",
    "Workflow.set_finish_point(\"tool\")\n",
    "\n",
    "app = Workflow.compile()\n",
    "app.invoke(\"What is the weather right now in Kanpur\")\n"
   ]
  },
  {
   "cell_type": "code",
   "execution_count": null,
   "metadata": {},
   "outputs": [],
   "source": []
  },
  {
   "cell_type": "code",
   "execution_count": null,
   "metadata": {},
   "outputs": [],
   "source": []
  },
  {
   "cell_type": "code",
   "execution_count": null,
   "metadata": {},
   "outputs": [],
   "source": []
  }
 ],
 "metadata": {
  "kernelspec": {
   "display_name": ".venv",
   "language": "python",
   "name": "python3"
  },
  "language_info": {
   "codemirror_mode": {
    "name": "ipython",
    "version": 3
   },
   "file_extension": ".py",
   "mimetype": "text/x-python",
   "name": "python",
   "nbconvert_exporter": "python",
   "pygments_lexer": "ipython3",
   "version": "3.10.11"
  }
 },
 "nbformat": 4,
 "nbformat_minor": 2
}
