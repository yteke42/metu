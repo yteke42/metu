{
  "cells": [
    {
      "cell_type": "code",
      "source": [
        "!pip install torchmetrics"
      ],
      "metadata": {
        "colab": {
          "base_uri": "https://localhost:8080/"
        },
        "id": "MKnvRzRKFhqU",
        "outputId": "c4b9502b-0f60-4a29-c348-340cd9059550"
      },
      "id": "MKnvRzRKFhqU",
      "execution_count": 2,
      "outputs": [
        {
          "output_type": "stream",
          "name": "stdout",
          "text": [
            "Collecting torchmetrics\n",
            "  Downloading torchmetrics-1.5.1-py3-none-any.whl.metadata (20 kB)\n",
            "Requirement already satisfied: numpy<2.0,>1.20.0 in /usr/local/lib/python3.10/dist-packages (from torchmetrics) (1.26.4)\n",
            "Requirement already satisfied: packaging>17.1 in /usr/local/lib/python3.10/dist-packages (from torchmetrics) (24.1)\n",
            "Requirement already satisfied: torch>=1.10.0 in /usr/local/lib/python3.10/dist-packages (from torchmetrics) (2.5.0+cu121)\n",
            "Collecting lightning-utilities>=0.8.0 (from torchmetrics)\n",
            "  Downloading lightning_utilities-0.11.8-py3-none-any.whl.metadata (5.2 kB)\n",
            "Requirement already satisfied: setuptools in /usr/local/lib/python3.10/dist-packages (from lightning-utilities>=0.8.0->torchmetrics) (75.1.0)\n",
            "Requirement already satisfied: typing-extensions in /usr/local/lib/python3.10/dist-packages (from lightning-utilities>=0.8.0->torchmetrics) (4.12.2)\n",
            "Requirement already satisfied: filelock in /usr/local/lib/python3.10/dist-packages (from torch>=1.10.0->torchmetrics) (3.16.1)\n",
            "Requirement already satisfied: networkx in /usr/local/lib/python3.10/dist-packages (from torch>=1.10.0->torchmetrics) (3.4.2)\n",
            "Requirement already satisfied: jinja2 in /usr/local/lib/python3.10/dist-packages (from torch>=1.10.0->torchmetrics) (3.1.4)\n",
            "Requirement already satisfied: fsspec in /usr/local/lib/python3.10/dist-packages (from torch>=1.10.0->torchmetrics) (2024.6.1)\n",
            "Requirement already satisfied: sympy==1.13.1 in /usr/local/lib/python3.10/dist-packages (from torch>=1.10.0->torchmetrics) (1.13.1)\n",
            "Requirement already satisfied: mpmath<1.4,>=1.1.0 in /usr/local/lib/python3.10/dist-packages (from sympy==1.13.1->torch>=1.10.0->torchmetrics) (1.3.0)\n",
            "Requirement already satisfied: MarkupSafe>=2.0 in /usr/local/lib/python3.10/dist-packages (from jinja2->torch>=1.10.0->torchmetrics) (3.0.2)\n",
            "Downloading torchmetrics-1.5.1-py3-none-any.whl (890 kB)\n",
            "\u001b[2K   \u001b[90m━━━━━━━━━━━━━━━━━━━━━━━━━━━━━━━━━━━━━━━━\u001b[0m \u001b[32m890.6/890.6 kB\u001b[0m \u001b[31m13.8 MB/s\u001b[0m eta \u001b[36m0:00:00\u001b[0m\n",
            "\u001b[?25hDownloading lightning_utilities-0.11.8-py3-none-any.whl (26 kB)\n",
            "Installing collected packages: lightning-utilities, torchmetrics\n",
            "Successfully installed lightning-utilities-0.11.8 torchmetrics-1.5.1\n"
          ]
        }
      ]
    },
    {
      "cell_type": "code",
      "id": "initial_id",
      "metadata": {
        "collapsed": true,
        "ExecuteTime": {
          "end_time": "2024-10-24T04:47:43.420050Z",
          "start_time": "2024-10-24T04:47:43.405026Z"
        },
        "id": "initial_id"
      },
      "source": [
        "import torchmetrics\n",
        "from torch.utils.data import Dataset\n",
        "import torch\n",
        "import numpy as np\n",
        "import pandas as  pd"
      ],
      "outputs": [],
      "execution_count": 7
    },
    {
      "metadata": {
        "id": "21222c43b031df4a"
      },
      "cell_type": "markdown",
      "source": [
        "# Example Simple Neural Network [Optional Example]"
      ],
      "id": "21222c43b031df4a"
    },
    {
      "metadata": {
        "id": "f5547506fc1c6e68"
      },
      "cell_type": "markdown",
      "source": [
        "###  This is an additional example. You can skip to Convolutional Neural Network below.\n",
        "### Check the M2 Notebook for a detailed example of simple neural networks"
      ],
      "id": "f5547506fc1c6e68"
    },
    {
      "metadata": {
        "ExecuteTime": {
          "end_time": "2024-10-24T04:47:11.355097Z",
          "start_time": "2024-10-24T04:47:11.344390Z"
        },
        "id": "a75a4bd61a3fac17"
      },
      "cell_type": "code",
      "source": [
        "class WaterDataset(Dataset): # inherits the Dataset class from torch\n",
        "    def __init__(self, csv_path):\n",
        "        super().__init__() # initializes the constructor of the base class Dataset\n",
        "        df = pd.read_csv(csv_path)\n",
        "        self.data = df.to_numpy().astype('float32')\n",
        "    def __len__(self):\n",
        "        return self.data.shape[0] # return the size of the dataset\n",
        "    def __getitem__(self, idx): # to select a specific row in the data based on index (idx)\n",
        "        features = self.data[idx, :-1] # selects everything except the last colum, which is the label.\n",
        "        label = self.data[idx, -1] # selects the last column\n",
        "        return features, label # returns the features and label as a tuple"
      ],
      "id": "a75a4bd61a3fac17",
      "outputs": [],
      "execution_count": 8
    },
    {
      "metadata": {
        "ExecuteTime": {
          "end_time": "2024-10-24T01:51:27.468562Z",
          "start_time": "2024-10-24T01:51:27.433076Z"
        },
        "id": "15dad192cf26921c"
      },
      "cell_type": "code",
      "source": [
        "dataset_train = WaterDataset(\n",
        "    \"./water_potability/water_train.csv\"\n",
        ")"
      ],
      "id": "15dad192cf26921c",
      "outputs": [],
      "execution_count": 9
    },
    {
      "metadata": {
        "ExecuteTime": {
          "end_time": "2024-10-24T01:51:27.965860Z",
          "start_time": "2024-10-24T01:51:27.957836Z"
        },
        "id": "ee6c9990e4d7e7cb"
      },
      "cell_type": "code",
      "source": [
        "from torch.utils.data import DataLoader\n",
        "\n",
        "dataloader_train = DataLoader(\n",
        "    dataset_train,\n",
        "    batch_size=2,\n",
        "    shuffle=True\n",
        ")\n"
      ],
      "id": "ee6c9990e4d7e7cb",
      "outputs": [],
      "execution_count": 10
    },
    {
      "metadata": {
        "ExecuteTime": {
          "end_time": "2024-10-24T01:51:29.074878Z",
          "start_time": "2024-10-24T01:51:29.051370Z"
        },
        "id": "b3412f145a8a9cbe",
        "outputId": "20c529a5-e9fc-487f-cf74-9eb58181fc52",
        "colab": {
          "base_uri": "https://localhost:8080/"
        }
      },
      "cell_type": "code",
      "source": [
        "features, labels = next(iter(dataloader_train)) # dataloader_train as a container holding many batches of data. iter() gives you a handle to start going through this container, and next() is like saying \"give me the next batch\".\n",
        "\n",
        "print(f\"FeaturesL: {features}, \\nLabels: {labels}\")"
      ],
      "id": "b3412f145a8a9cbe",
      "outputs": [
        {
          "output_type": "stream",
          "name": "stdout",
          "text": [
            "FeaturesL: tensor([[0.4976, 0.4607, 0.6963, 0.6319, 0.4466, 0.2797, 0.2250, 0.2690, 0.0084],\n",
            "        [0.4049, 0.4909, 0.3406, 0.2348, 0.3607, 0.2970, 0.5128, 0.0000, 0.1450]]), \n",
            "Labels: tensor([1., 1.])\n"
          ]
        }
      ],
      "execution_count": 15
    },
    {
      "metadata": {
        "ExecuteTime": {
          "end_time": "2024-10-24T01:51:29.747519Z",
          "start_time": "2024-10-24T01:51:29.737434Z"
        },
        "id": "1c65fa236b1cb139"
      },
      "cell_type": "code",
      "source": [
        "from torch import nn\n",
        "import torch.nn.functional as F\n",
        "class Net(nn.Module):\n",
        "    def __init__(self):\n",
        "        super(Net, self).__init__()\n",
        "        self.fc1 = nn.Linear(9,16)\n",
        "        self.fc2 = nn.Linear(16,8)\n",
        "        self.fc3 = nn.Linear(8,1)\n",
        "    def forward(self, x):\n",
        "        x = F.relu(self.fc1(x))\n",
        "        x = F.relu(self.fc2(x))\n",
        "        x = F.sigmoid(self.fc3(x))\n",
        "        return x\n",
        "\n",
        "net = Net()"
      ],
      "id": "1c65fa236b1cb139",
      "outputs": [],
      "execution_count": 16
    },
    {
      "metadata": {
        "ExecuteTime": {
          "end_time": "2024-10-24T01:51:32.541324Z",
          "start_time": "2024-10-24T01:51:32.532011Z"
        },
        "id": "96cb46ea3f772c3f",
        "outputId": "3b3e7213-b7ff-4ee1-a854-15e137b6fbe9",
        "colab": {
          "base_uri": "https://localhost:8080/"
        }
      },
      "cell_type": "code",
      "source": [
        "features.dtype"
      ],
      "id": "96cb46ea3f772c3f",
      "outputs": [
        {
          "output_type": "execute_result",
          "data": {
            "text/plain": [
              "torch.float32"
            ]
          },
          "metadata": {},
          "execution_count": 17
        }
      ],
      "execution_count": 17
    },
    {
      "metadata": {
        "ExecuteTime": {
          "end_time": "2024-10-24T01:52:18.273454Z",
          "start_time": "2024-10-24T01:51:33.157247Z"
        },
        "id": "d1c9efc9f25b8fe7"
      },
      "cell_type": "code",
      "source": [
        "import torch.nn as nn\n",
        "import torch.optim as optim\n",
        "\n",
        "criterion = nn.BCELoss()\n",
        "optimizer = optim.Adam(net.parameters(), lr=0.01)\n",
        "\n",
        "net.train()\n",
        "for epoch in range(100):\n",
        "    for features, labels in dataloader_train:\n",
        "        optimizer.zero_grad()\n",
        "        outputs = net(features)\n",
        "        outputs = outputs.squeeze(1)  # Remove the extra dimension\n",
        "        loss= criterion(outputs, labels)\n",
        "        loss.backward()\n",
        "        optimizer.step()"
      ],
      "id": "d1c9efc9f25b8fe7",
      "outputs": [],
      "execution_count": 18
    },
    {
      "metadata": {
        "ExecuteTime": {
          "end_time": "2024-10-24T01:52:18.631361Z",
          "start_time": "2024-10-24T01:52:18.284839Z"
        },
        "id": "6b809c52abf18768",
        "outputId": "97752830-0765-418b-81e2-dc6234477881",
        "colab": {
          "base_uri": "https://localhost:8080/"
        }
      },
      "cell_type": "code",
      "source": [
        "from torchmetrics import Accuracy\n",
        "acc = Accuracy(\"binary\")\n",
        "\n",
        "net.eval()\n",
        "\n",
        "with torch.no_grad():\n",
        "    for features, labels in dataloader_train:\n",
        "        outputs = net(features)\n",
        "        preds = (outputs > 0.5).float()\n",
        "        acc(preds, labels.view(-1,1))\n",
        "\n",
        "accuracy = acc.compute()\n",
        "print(f\"Accuracy: {accuracy}\")"
      ],
      "id": "6b809c52abf18768",
      "outputs": [
        {
          "output_type": "stream",
          "name": "stdout",
          "text": [
            "Accuracy: 0.5988063812255859\n"
          ]
        }
      ],
      "execution_count": 21
    },
    {
      "metadata": {
        "id": "110c1ba12600bc25"
      },
      "cell_type": "markdown",
      "source": [
        "# Convolutional Neural Network"
      ],
      "id": "110c1ba12600bc25"
    },
    {
      "metadata": {
        "id": "7795ecc1223fe8ea"
      },
      "cell_type": "markdown",
      "source": [
        "### Loading images to PyTorch"
      ],
      "id": "7795ecc1223fe8ea"
    },
    {
      "metadata": {
        "ExecuteTime": {
          "end_time": "2024-10-22T02:59:38.808269Z",
          "start_time": "2024-10-22T02:59:38.780229Z"
        },
        "id": "b011228a3ad928b1"
      },
      "cell_type": "code",
      "source": [
        "from torchvision.datasets import ImageFolder\n",
        "from torchvision import transforms\n",
        "\n",
        "train_transforms = transforms.Compose([ # to chain multiple image transformations together.  It takes a list of transformations as input and applies them sequentially.\n",
        "    transforms.RandomHorizontalFlip(),\n",
        "    transforms.RandomRotation(45),\n",
        "    transforms.Resize((128,128)), # This transformation resizes the input image to a fixed size of 128x128 pixels.  Resizing images to a consistent size is crucial because many neural networks expect input images to have the same dimensions.\n",
        "    transforms.ToTensor(), # converts Image into a PyTorch tensor. This conversion also typically scales the pixel values from the range [0, 255] to [0, 1], which is often beneficial for model training.\n",
        "\n",
        "])\n",
        "\n",
        "dataset_train = ImageFolder(\n",
        "    \"/content/drive/MyDrive/clouds/clouds/clouds_train\",\n",
        "    transform = train_transforms\n",
        ")"
      ],
      "id": "b011228a3ad928b1",
      "outputs": [],
      "execution_count": 23
    },
    {
      "cell_type": "code",
      "source": [
        "from google.colab import drive\n",
        "drive.mount('/content/drive')"
      ],
      "metadata": {
        "colab": {
          "base_uri": "https://localhost:8080/"
        },
        "id": "oItJG07mI1T3",
        "outputId": "cf7dda71-1f95-43da-c1de-ca8abbb3146f"
      },
      "id": "oItJG07mI1T3",
      "execution_count": 24,
      "outputs": [
        {
          "output_type": "stream",
          "name": "stdout",
          "text": [
            "Drive already mounted at /content/drive; to attempt to forcibly remount, call drive.mount(\"/content/drive\", force_remount=True).\n"
          ]
        }
      ]
    },
    {
      "metadata": {
        "ExecuteTime": {
          "end_time": "2024-10-22T02:59:38.964907Z",
          "start_time": "2024-10-22T02:59:38.944987Z"
        },
        "id": "7c8583f66647d7ea",
        "outputId": "b142a9bf-6e70-4966-9f25-9433902e9789",
        "colab": {
          "base_uri": "https://localhost:8080/"
        }
      },
      "cell_type": "code",
      "source": [
        "dataloader_train = DataLoader(\n",
        "    dataset_train,\n",
        "    shuffle=True,\n",
        "    batch_size=1\n",
        ")\n",
        "\n",
        "image, label = next(iter(dataloader_train))\n",
        "print(image.shape)"
      ],
      "id": "7c8583f66647d7ea",
      "outputs": [
        {
          "output_type": "stream",
          "name": "stdout",
          "text": [
            "torch.Size([1, 3, 128, 128])\n"
          ]
        }
      ],
      "execution_count": 26
    },
    {
      "metadata": {
        "ExecuteTime": {
          "end_time": "2024-10-22T02:59:39.638700Z",
          "start_time": "2024-10-22T02:59:39.521129Z"
        },
        "id": "4793a6a57c0d8c83",
        "outputId": "9a8f4a4d-9c17-47bd-a90b-9065d736da64",
        "colab": {
          "base_uri": "https://localhost:8080/",
          "height": 452
        }
      },
      "cell_type": "code",
      "source": [
        "image= image.squeeze().permute(1,2,0)\n",
        "print(image.shape)\n",
        "\n",
        "import matplotlib.pyplot as plt\n",
        "plt.imshow(image)\n",
        "plt.show()"
      ],
      "id": "4793a6a57c0d8c83",
      "outputs": [
        {
          "output_type": "stream",
          "name": "stdout",
          "text": [
            "torch.Size([128, 128, 3])\n"
          ]
        },
        {
          "output_type": "display_data",
          "data": {
            "text/plain": [
              "<Figure size 640x480 with 1 Axes>"
            ],
            "image/png": "[encoded data removed]"
          },
          "metadata": {}
        }
      ],
      "execution_count": 27
    },
    {
      "metadata": {
        "id": "b8a103cacfb7e58"
      },
      "cell_type": "markdown",
      "source": [
        "### Building the neural network"
      ],
      "id": "b8a103cacfb7e58"
    },
    {
      "metadata": {
        "ExecuteTime": {
          "end_time": "2024-10-22T02:53:39.009305Z",
          "start_time": "2024-10-22T02:53:38.992693Z"
        },
        "id": "390e8496cc942960"
      },
      "cell_type": "code",
      "source": [
        "class Net(nn.Module):\n",
        "    def __init__(self,num_classes):\n",
        "        super().__init__()\n",
        "        self.feature_extractor = nn.Sequential( # This creates a sequential container that holds a series of layers. The input data will pass through these layers in the order they are defined.\n",
        "\n",
        "            #!!! Add a 2D convolutional layer using the nn.Conv2d function. The parameter values are given in the description.\n",
        "            nn.Conv2d(in_channels=3, out_channels=32, kernel_size=3, padding=1),\n",
        "                 # This is a 2D convolutional layer, the core building block of many computer vision models. It applies a set of learnable filters to the input image to extract features like edges, corners, and textures.\n",
        "                 # - in_channels=3:  The input image has 3 channels (likely RGB - red, green, blue).\n",
        "                 # - out_channels=32: This layer produces 32 feature maps (or channels) as output.\n",
        "                 # - kernel_size=3: Each filter is a 3x3 square.\n",
        "                 # - padding=1:  Padding adds a border of pixels around the input to ensure the output size is the same as the input.\n",
        "\n",
        "            #!!! Call the ELU function from  nn\n",
        "            nn.ELU(), #This is an Exponential Linear Unit activation function. It introduces non-linearity to the model, allowing it to learn more complex patterns.\n",
        "\n",
        "            #!!! Use the MaxPool2d function from nn, with kernel size of 2 for downsampling.\n",
        "            nn.MaxPool2d(kernel_size=2) , # This is a 2D max pooling layer. It downsamples the feature maps by taking the maximum value within each 2x2 window. This reduces the spatial dimensions of the feature maps, making the network more robust to variations in the input and reducing the computational cost.\n",
        "\n",
        "            #!!! Add a 2D convolutional layer\n",
        "            nn.Conv2d(in_channels=32, out_channels=64, kernel_size=3, padding=1),\n",
        "\n",
        "            # This is another convolutional layer, similar to the first one. However, it takes the 32 feature maps from the previous layer as input and produces 64 feature maps as output. Uses the same kernel size and padding.\n",
        "             # This allows the network to learn hierarchical features, where the second layer builds upon the features extracted by the first layer, capturing more complex patterns.\n",
        "\n",
        "            #!!! Add another ELU activitaion function\n",
        "            nn.ELU(), #  Another ELU activation function to introduce non-linearity after the second convolutional layer.\n",
        "\n",
        "            #!!! Do one more pooling\n",
        "            nn.MaxPool2d(kernel_size=2),  # Another max pooling layer to downsample the feature maps further.\n",
        "\n",
        "            nn.Flatten() # This layer flattens the multi-dimensional feature maps into a single vector. This is necessary to connect the convolutional layers (which operate on spatial data) to the fully connected layers (which operate on vectors).\n",
        "        )\n",
        "\n",
        "        self.classifier = nn.Linear(in_features=64*32*32, out_features=num_classes) # This line of code creates a linear layer, which is also known as a fully connected layer, and assigns it to the self.classifier attribute of your neural network model. This layer is a crucial component in your network as it's responsible for taking the extracted features from the previous layers and performing the final classification.\n",
        "\n",
        "        # in_features=64*32*32: This specifies the number of input features to the linear layer. In your case, it's calculated as 64 * 32 * 32. This number comes from the output shape of the previous layer (nn.Flatten()). After the convolutional layers and pooling operations, the nn.Flatten() layer transforms the multi-dimensional feature maps into a single vector with 64 * 32 * 32 elements.\n",
        "\n",
        "        # out_features=num_classes: This specifies the number of output features from the linear layer. This is the same as the number of classes you want your network to predict. For example, if you're classifying images into 10 categories (like digits 0-9), num_classes would be 10.\n",
        "\n",
        "\n",
        "    def forward(self, x):\n",
        "        #!!! Call the feature_extracter method of the self. Pass x as the parameter. Assign the output back to x, that means x =...\n",
        "        x = self.feature_extractor(x) # Remember that feature_extractor is a sequence of convolutional layers, activation functions, and pooling layers. These layers work together to extract relevant features from the input data, such as edges, textures, and shapes.\n",
        "\n",
        "        #!!! Use the classifier of the self, passing x as the parameter. Assign the output back to x, that means x = ...\n",
        "        x = self.classifier(x) # This line takes the output from the feature_extractor (which is now a flattened vector of features) and passes it through the classifier component. The classifier is a linear layer (fully connected layer) that maps the extracted features to the desired output classes.  It essentially makes predictions based on the learned features.\n",
        "\n",
        "        return x\n",
        "\n",
        "        # In essence, the forward method defines the flow of data through the network:\n",
        "        #   * Feature Extraction: The input data is processed by a series of convolutional layers to extract meaningful features.\n",
        "        #   * Classification: The extracted features are then fed into a linear layer to make predictions about the input's class.\n"
      ],
      "id": "390e8496cc942960",
      "outputs": [],
      "execution_count": 31
    },
    {
      "metadata": {
        "id": "eeca715578101f93"
      },
      "cell_type": "markdown",
      "source": [
        "### Training loop"
      ],
      "id": "eeca715578101f93"
    },
    {
      "metadata": {
        "ExecuteTime": {
          "end_time": "2024-10-22T02:55:13.825015Z",
          "start_time": "2024-10-22T02:53:39.172270Z"
        },
        "id": "15eac9798964d4d",
        "outputId": "6a0f68b3-eac6-411b-e31a-d53303b2eb13",
        "colab": {
          "base_uri": "https://localhost:8080/"
        }
      },
      "cell_type": "code",
      "source": [
        "net = Net(num_classes=7) # This line creates an instance of the neural network (Net). We're passing num_classes=7 to specify that the network should output predictions for 7 different classes.\n",
        "\n",
        "criterion = nn.CrossEntropyLoss() #  This defines the loss function used to train the network. nn.CrossEntropyLoss() is commonly used for multi-class classification problems. It calculates the difference between the predicted probability distribution and the true label. Importantly, it combines the softmax function (to convert raw scores into probabilities) and the negative log-likelihood loss into a single, efficient operation.\n",
        "\n",
        "optimizer = optim.Adam(net.parameters(), lr=0.001) # This creates an Adam optimizer to update the network's parameters during training.\n",
        "\n",
        "for epoch in range(10): # This loop iterates over 10 training epochs.\n",
        "\n",
        "    running_loss = 0.0 # This initializes a variable to keep track of the total loss within each epoch.\n",
        "\n",
        "    for images, labels in dataloader_train: # This inner loop iterates over the batches of data provided by your dataloader_train.\n",
        "\n",
        "        #!!! Call the zero_grad method of the optimizer\n",
        "        optimizer.zero_grad() # This clears the gradients from the previous iteration.\n",
        "\n",
        "        #!!! Pass the input to the net object to obtain the results and assign them to outputs variable.\n",
        "        outputs = net(images) # This passes the input images to the network to get the predictions (outputs). These outputs are often called \"logits\" and represent raw scores for each class before being converted into probabilities.\n",
        "\n",
        "        #!!! Apply criterion function which receives outputs and labels as parameters. Assign the outcome to the loss variable.\n",
        "        loss = criterion(outputs, labels) # This calculates the loss between the network's predictions (outputs) and the true labels (labels) using the CrossEntropyLoss function.\n",
        "\n",
        "        # Call the backward method of the loss function\n",
        "        loss.backward() # This performs backpropagation, calculating the gradients of the loss with respect to the network's parameters.\n",
        "\n",
        "        #!!! Call the step function of the optimizer\n",
        "        optimizer.step() # This updates the network's parameters based on the calculated gradients to minimize the loss.\n",
        "\n",
        "        running_loss += loss.item() # This adds the loss value of the current batch to the running_loss.\n",
        "\n",
        "    epoch_loss = running_loss / len(dataloader_train) # This calculates the average loss for the epoch.\n",
        "\n",
        "    print(f\"Epoch {epoch+1}, Loss: {epoch_loss:.4f}\")\n"
      ],
      "id": "15eac9798964d4d",
      "outputs": [
        {
          "output_type": "stream",
          "name": "stdout",
          "text": [
            "Epoch 1, Loss: 2.5300\n",
            "Epoch 2, Loss: 1.8818\n",
            "Epoch 3, Loss: 1.9082\n",
            "Epoch 4, Loss: 1.6328\n",
            "Epoch 5, Loss: 1.8251\n",
            "Epoch 6, Loss: 2.1233\n",
            "Epoch 7, Loss: 1.3705\n",
            "Epoch 8, Loss: 1.6209\n",
            "Epoch 9, Loss: 1.9744\n",
            "Epoch 10, Loss: 1.6551\n"
          ]
        }
      ],
      "execution_count": 32
    },
    {
      "metadata": {
        "id": "4d94604bece5c76d"
      },
      "cell_type": "markdown",
      "source": [
        "### Evaluation loop"
      ],
      "id": "4d94604bece5c76d"
    },
    {
      "metadata": {
        "ExecuteTime": {
          "end_time": "2024-10-22T02:55:13.871201Z",
          "start_time": "2024-10-22T02:55:13.832012Z"
        },
        "id": "b1dbc3797addfa6e"
      },
      "cell_type": "code",
      "source": [
        "test_transforms = transforms.Compose([\n",
        "    #\n",
        "    # No Data Augmentation at test time\n",
        "    #\n",
        "    transforms.Resize((128,128)),\n",
        "    transforms.ToTensor()\n",
        "])\n",
        "\n",
        "dataset_test = ImageFolder(\n",
        "    \"/content/drive/MyDrive/clouds/clouds/clouds_test\",\n",
        "    transform=test_transforms\n",
        ")\n",
        "\n",
        "dataloader_test = DataLoader(\n",
        "    dataset_test,\n",
        "    shuffle=True,\n",
        "    batch_size=1\n",
        ")"
      ],
      "id": "b1dbc3797addfa6e",
      "outputs": [],
      "execution_count": 33
    },
    {
      "metadata": {
        "ExecuteTime": {
          "end_time": "2024-10-22T02:55:22.450470Z",
          "start_time": "2024-10-22T02:55:13.904749Z"
        },
        "id": "a657df62a4177961",
        "outputId": "dda94507-bb73-4db2-e717-37611b8c1890",
        "colab": {
          "base_uri": "https://localhost:8080/"
        }
      },
      "cell_type": "code",
      "source": [
        "from torchmetrics import Precision, Recall\n",
        "\n",
        "metric_precision = Precision(\n",
        "    task=\"multiclass\", num_classes=7, average=\"macro\"\n",
        ")\n",
        "\n",
        "metric_recall = Recall(\n",
        "    task=\"multiclass\", num_classes=7, average=\"macro\"\n",
        ")\n",
        "\n",
        "net.eval()\n",
        "with torch.no_grad():\n",
        "    for images, labels in dataloader_test:\n",
        "\n",
        "        outputs = net(images)\n",
        "\n",
        "        _, preds = torch.max(outputs, 1) # This finds the maximum value along dimension 1 of the outputs tensor. Dimension 1 corresponds to the different classes in your model. It returns two values: the maximum values themselves and their indices. We're interested in the indices, which represent the predicted class labels. The underscore _ is used to discard the maximum values, as we only need the preds.\n",
        "\n",
        "        #!!! call metric_precision function passing preds and labels as parameters.\n",
        "        metric_precision(preds, labels) # stores the calculated precision values for each batch during the iteration through the test data.\n",
        "\n",
        "        #!!! call metric_recall function passing preds and labels as parameters.\n",
        "        metric_recall(preds, labels) # similarly this  calculates precision for a single batch, ALSO it keeps track of the necessary information across all batches\n",
        "\n",
        "precision = metric_precision.compute()\n",
        "recall = metric_recall.compute()\n",
        "\n",
        "print(f\"Precision: {precision}, \\nRecall: {recall}\")\n"
      ],
      "id": "a657df62a4177961",
      "outputs": [
        {
          "output_type": "stream",
          "name": "stdout",
          "text": [
            "Precision: 0.4338526129722595, \n",
            "Recall: 0.4597601890563965\n"
          ]
        }
      ],
      "execution_count": 34
    },
    {
      "metadata": {
        "ExecuteTime": {
          "end_time": "2024-10-22T02:55:22.528206Z",
          "start_time": "2024-10-22T02:55:22.518652Z"
        },
        "id": "384a6a7fb3612ce",
        "outputId": "cb3aa8fc-931a-4cef-f577-f3b69c286b5a",
        "colab": {
          "base_uri": "https://localhost:8080/"
        }
      },
      "cell_type": "code",
      "source": [
        "_, preds, outputs"
      ],
      "id": "384a6a7fb3612ce",
      "outputs": [
        {
          "output_type": "execute_result",
          "data": {
            "text/plain": [
              "(tensor([2.3668]),\n",
              " tensor([6]),\n",
              " tensor([[ 0.1265, -5.2512, -0.4692,  1.8218,  0.1552, -3.1608,  2.3668]]))"
            ]
          },
          "metadata": {},
          "execution_count": 35
        }
      ],
      "execution_count": 35
    },
    {
      "metadata": {
        "id": "5da3aa4e4ba3a2cf"
      },
      "cell_type": "markdown",
      "source": [
        "### Analyzing the performance per class"
      ],
      "id": "5da3aa4e4ba3a2cf"
    },
    {
      "metadata": {
        "ExecuteTime": {
          "end_time": "2024-10-22T02:56:56.680404Z",
          "start_time": "2024-10-22T02:56:49.692963Z"
        },
        "id": "2e6d97fe8e336d2b",
        "outputId": "9ae86f1a-205b-48d2-826d-3d4bb80172f0",
        "colab": {
          "base_uri": "https://localhost:8080/"
        }
      },
      "cell_type": "code",
      "source": [
        "# Define precision metric\n",
        "metric_precision = Precision(\n",
        "    task=\"multiclass\", num_classes=7, average=None\n",
        ")\n",
        "\n",
        "net.eval()\n",
        "with torch.no_grad():\n",
        "    for images, labels in dataloader_test:\n",
        "        outputs = net(images)\n",
        "        _, preds = torch.max(outputs, 1)\n",
        "        metric_precision(preds, labels)\n",
        "precision = metric_precision.compute()\n",
        "\n",
        "print(precision)"
      ],
      "id": "2e6d97fe8e336d2b",
      "outputs": [
        {
          "output_type": "stream",
          "name": "stdout",
          "text": [
            "tensor([0.0000, 0.7722, 0.6000, 0.8293, 0.3355, 0.0000, 0.5000])\n"
          ]
        }
      ],
      "execution_count": 36
    },
    {
      "metadata": {
        "ExecuteTime": {
          "end_time": "2024-10-22T02:58:05.841306Z",
          "start_time": "2024-10-22T02:58:05.828016Z"
        },
        "id": "7c42d5ce3fbedd9f",
        "outputId": "9e17242f-3433-4678-9e37-8d8bc78d2170",
        "colab": {
          "base_uri": "https://localhost:8080/"
        }
      },
      "cell_type": "code",
      "source": [
        "dataset_test.class_to_idx.items()"
      ],
      "id": "7c42d5ce3fbedd9f",
      "outputs": [
        {
          "output_type": "execute_result",
          "data": {
            "text/plain": [
              "dict_items([('cirriform clouds', 0), ('clear sky', 1), ('cumulonimbus clouds', 2), ('cumulus clouds', 3), ('high cumuliform clouds', 4), ('stratiform clouds', 5), ('stratocumulus clouds', 6)])"
            ]
          },
          "metadata": {},
          "execution_count": 37
        }
      ],
      "execution_count": 37
    },
    {
      "metadata": {
        "ExecuteTime": {
          "end_time": "2024-10-22T02:58:41.682289Z",
          "start_time": "2024-10-22T02:58:41.676289Z"
        },
        "id": "c4d376c9e93cbe5e",
        "outputId": "e0fb3d94-dce6-461c-e4dc-751dd905fcf2",
        "colab": {
          "base_uri": "https://localhost:8080/"
        }
      },
      "cell_type": "code",
      "source": [
        "# Get precision per class\n",
        "precision_per_class = {\n",
        "    k: precision[v].item() for k, v in dataset_test.class_to_idx.items()\n",
        "}\n",
        "print(precision_per_class)"
      ],
      "id": "c4d376c9e93cbe5e",
      "outputs": [
        {
          "output_type": "stream",
          "name": "stdout",
          "text": [
            "{'cirriform clouds': 0.0, 'clear sky': 0.7721518874168396, 'cumulonimbus clouds': 0.6000000238418579, 'cumulus clouds': 0.8292682766914368, 'high cumuliform clouds': 0.33554816246032715, 'stratiform clouds': 0.0, 'stratocumulus clouds': 0.5}\n"
          ]
        }
      ],
      "execution_count": 39
    },
    {
      "metadata": {
        "id": "1af45615ef4366a5"
      },
      "cell_type": "markdown",
      "source": [],
      "id": "1af45615ef4366a5"
    },
    {
      "metadata": {
        "id": "4bc7fb8785578fa4"
      },
      "cell_type": "markdown",
      "source": [
        "# Recurrent Neural Networks"
      ],
      "id": "4bc7fb8785578fa4"
    },
    {
      "metadata": {
        "ExecuteTime": {
          "end_time": "2024-10-24T01:50:27.234763Z",
          "start_time": "2024-10-24T01:50:27.223527Z"
        },
        "id": "3a135e5338562a7c"
      },
      "cell_type": "code",
      "source": [
        "# Creating sequences in Python\n",
        "import numpy as np\n",
        "\n",
        "def create_sequences(df, seq_length):\n",
        "    xs, ys = [], []\n",
        "    for i in range(len(df) - seq_length):\n",
        "        x = df.iloc[i : (i + seq_length), 1] # This selects rows from i to i + seq_length - 1 (slicing) and the column at index 1.\n",
        "        y = df.iloc[i + seq_length, 1] # This selects the row at index i + seq_length and the column at index 1.\n",
        "        xs.append(x)\n",
        "        ys.append(y)\n",
        "    return np.array(xs), np.array(ys)"
      ],
      "id": "3a135e5338562a7c",
      "outputs": [],
      "execution_count": 40
    },
    {
      "metadata": {
        "ExecuteTime": {
          "end_time": "2024-10-24T02:50:53.680759Z",
          "start_time": "2024-10-24T02:50:53.408801Z"
        },
        "id": "8d8c51b84bdba899"
      },
      "cell_type": "code",
      "source": [
        "import pandas as pd\n",
        "\n",
        "train_data = pd.read_csv('/content/drive/MyDrive/to import/electricity_consump/electricity_consump/electricity_train.csv')[:2000] # Here we select the first 2000 rows to save time in training\n",
        "test_data = pd.read_csv('/content/drive/MyDrive/to import/electricity_consump/electricity_consump/electricity_test.csv')[:1000] # Here we select the first 1000 rows to save time in testing\n",
        "seq_length = 24 * 4 # 24 hours\n",
        "\n",
        "X_train, y_train = create_sequences(train_data, seq_length)\n",
        "X_test, y_test = create_sequences(test_data, seq_length)\n"
      ],
      "id": "8d8c51b84bdba899",
      "outputs": [],
      "execution_count": 42
    },
    {
      "metadata": {
        "ExecuteTime": {
          "end_time": "2024-10-24T02:50:53.774006Z",
          "start_time": "2024-10-24T02:50:53.769010Z"
        },
        "id": "ef3e6dc20b486e0f",
        "outputId": "972582b6-c31b-4c4e-80a1-0ae5c7a10891",
        "colab": {
          "base_uri": "https://localhost:8080/"
        }
      },
      "cell_type": "code",
      "source": [
        "print(X_train.shape) # we have 105,119 training samples, and each sample is a sequence of length 96.\n",
        "print(X_test.shape) # 34,944 testing samples, each with a sequence length of 96."
      ],
      "id": "ef3e6dc20b486e0f",
      "outputs": [
        {
          "output_type": "stream",
          "name": "stdout",
          "text": [
            "(1904, 96)\n",
            "(904, 96)\n"
          ]
        }
      ],
      "execution_count": 43
    },
    {
      "metadata": {
        "ExecuteTime": {
          "end_time": "2024-10-24T02:50:54.927866Z",
          "start_time": "2024-10-24T02:50:54.916793Z"
        },
        "id": "d34d5b3938bb8f00"
      },
      "cell_type": "code",
      "source": [
        "from torch.utils.data import TensorDataset\n",
        "\n",
        "dataset_train = TensorDataset(\n",
        "    torch.from_numpy(X_train).float(),\n",
        "    torch.from_numpy(y_train).float()\n",
        ")\n",
        "\n",
        "dataset_test = TensorDataset(\n",
        "    torch.from_numpy(X_test).float(),\n",
        "    torch.from_numpy(y_test).float()\n",
        "\n",
        ")\n",
        "\n",
        "dataloader_train = DataLoader(\n",
        "    dataset_train,\n",
        "    shuffle=True,\n",
        "    batch_size=2\n",
        ")\n",
        "\n",
        "dataloader_test = DataLoader(\n",
        "    dataset_test,\n",
        "    shuffle=True,\n",
        "    batch_size=2\n",
        ")\n"
      ],
      "id": "d34d5b3938bb8f00",
      "outputs": [],
      "execution_count": 44
    },
    {
      "metadata": {
        "ExecuteTime": {
          "end_time": "2024-10-24T02:50:55.903163Z",
          "start_time": "2024-10-24T02:50:55.890866Z"
        },
        "id": "b352462c69be1d18"
      },
      "cell_type": "code",
      "source": [
        "class Net(nn.Module): # This line defines a class called Net that inherits from nn.Module. In PyTorch, nn.Module is the base class for all neural network modules. This means our LSTMnet will be a building block for constructing larger neural networks.\n",
        "    def __init__(self):\n",
        "        super().__init__( ) # This line calls the constructor of the parent class (nn.Module) to initialize its properties.\n",
        "\n",
        "        #!!! Define an RNN using nn.RNN function. It should have input_size, hidden_size, num_layers, and batch_first properly defined. Check the descriptions below to figure out the values for each of them.\n",
        "        self.rnn = nn.RNN( #  This is where we create the RNN layer.\n",
        "\n",
        "            input_size=1, # Each input to the RNN will be a single value (a scalar).\n",
        "\n",
        "            hidden_size=32, #  The number of features in the hidden state of the RNN are 32. The hidden state is like the RNN's memory, and a larger size means it can remember more complex patterns.\n",
        "\n",
        "            num_layers=2, #  This RNN has 2 layers stacked on top of each other. Stacking layers can help the RNN learn more complex patterns.\n",
        "\n",
        "            batch_first=True, # The batch_first is true, which  means the input and output tensors will have the batch dimension first (batch_size, sequence_length, input_size). This is often preferred for efficiency.\n",
        "        )\n",
        "\n",
        "        #!!! Create a linear layer using the nn.Linear method, the input feature size is 32, and output feature size is 1. Assign the layer to self.cc\n",
        "        self.fc = nn.Linear(32, 1) # This creates a fully connected linear layer. This layer will take the output of the RNN and produce a single output value.\n",
        "\n",
        "    def forward(self, x): # This is the forward pass function. It defines how the input data flows through the network.\n",
        "\n",
        "        #!!! Create the hidden state variable h0, by caling the zeros function of the torch. Pass 2, x.size(0), and 32 as the parameters. Their explanations are given below.\n",
        "        h0 = torch.zeros(2, x.size(0), 32) # This initializes the initial hidden state (h0) of the RNN to zeros. The size is (num_layers, batch_size, hidden_size).\n",
        "\n",
        "        out, _ = self.rnn(x, h0) # This passes the input x and the initial hidden state h0 to the RNN layer. The RNN processes the input sequence and produces an output out and the final hidden state. We ignore the final hidden state here using _.\n",
        "        #  In this line, x is your actual input sequence (e.g., a series of numbers, words encoded as numbers, etc.). The rnn function processes this input sequence step-by-step, using h0 as the initial memory.\n",
        "\n",
        "        # Inside the rnn function, the RNN cell repeatedly updates its hidden state as it processes each element of the input x. This updated hidden state captures the information from the sequence seen so far.\n",
        "\n",
        "        out = self.fc(out[:, -1, :]) # This line extracts the output of the RNN at the last time step (out[:, -1, :]) and passes it to the fully connected layer (self.fc) to get the final output.\n",
        "\n",
        "        # The out variable captures the output of the RNN at each time step. So, out will actually have the same length as your input sequence x.\n",
        "\n",
        "        # out[:, -1, :] This line is important because it extracts only the last output from the RNN.  We often care most about the RNN's understanding of the entire sequence, which is reflected in the final output.\n",
        "\n",
        "        # The self.fc (fully connected layer) acts as a final processing step. It takes the last output of the RNN (which is a vector of 32 values in this case) and transforms it into the desired output shape (a single value here). This allows the network to make a prediction or classification based on the entire input sequence.\n",
        "\n",
        "        # That means it has two parts:\n",
        "        # It has two main parts:\n",
        "\n",
        "        # 1. The RNN network (self.rnn): This is the core of the model, responsible for processing the sequential data and capturing temporal dependencies. It does the heavy lifting of analyzing the input step-by-step and updating its hidden state to maintain a memory of the sequence.\n",
        "\n",
        "        # 2. The fully connected layer (self.fc): This layer acts as the output layer of the network. It takes the final hidden state of the RNN (which represents the RNN's understanding of the entire sequence) and maps it to the desired output.  Think of it as the \"decision-making\" part of the network, taking the RNN's knowledge and using it to make a prediction or classification.\n",
        "\n",
        "        # Why have both?\n",
        "\n",
        "        # The RNN is great at handling sequences, but its output is often a complex representation that might not be directly suitable for the final task. The fully connected layer helps to simplify and tailor this output to the specific problem you're trying to solve.\n",
        "\n",
        "        return out"
      ],
      "id": "b352462c69be1d18",
      "outputs": [],
      "execution_count": 45
    },
    {
      "metadata": {
        "id": "9faf58899a5b69b9"
      },
      "cell_type": "markdown",
      "source": [
        "### LSTM Networks"
      ],
      "id": "9faf58899a5b69b9"
    },
    {
      "metadata": {
        "ExecuteTime": {
          "end_time": "2024-10-24T02:50:57.530504Z",
          "start_time": "2024-10-24T02:50:57.513598Z"
        },
        "id": "d0afa32cc5e78a5c"
      },
      "cell_type": "code",
      "source": [
        "class LSTMnet(nn.Module):\n",
        "    def __init__(self):\n",
        "        super().__init__()\n",
        "        # Define lstm layer\n",
        "\n",
        "        #!!! Create an LSTM layer. The approach is very similar to creating RNN as you did above.\n",
        "        nn.LSTM( # This line creates an LSTM layer\n",
        "            input_size=1 , # This means the LSTM layer expects an input sequence where each element has a size of 1 (e.g., a single value representing a time step in a time series).\n",
        "\n",
        "            hidden_size=32 , # This sets the number of features in the hidden state of the LSTM to 32. The hidden state is the LSTM's memory, where it stores information from previous time steps.\n",
        "\n",
        "            num_layers=2 , # This creates an LSTM with 2 layers stacked on top of each other. Multiple layers can help the network learn more complex patterns.\n",
        "\n",
        "            batch_first=True , # This indicates that the input data will have the batch dimension first, followed by the sequence length and input size (e.g., [batch_size, sequence_length, input_size]).\n",
        "        )\n",
        "\n",
        "        #!!! Create a linear layer using the nn.Linear method, the input feature size is 32, and output feature size is 1. Assign the layer to self.cc\n",
        "        self.fc = nn.Linear(32, 1) # This layer takes the output of the LSTM (which has a size of 32) and maps it to a single output value.\n",
        "\n",
        "    def forward(self, x):\n",
        "        #!!! Create the hidden state variable h0, by caling the zeros function of the torch. Pass 2, x.size(0), and 32 as the parameters. Their explanations are given below.\n",
        "        h0 = torch.zeros(2, x.size(0), 32) # This line initializes the initial hidden state (h0) of the LSTM with zeros. It creates a tensor of zeros with dimensions:\n",
        "            # 2: Number of LSTM layers.\n",
        "            # x.size(0): Batch size of the input data.\n",
        "            # 32: Hidden size of the LSTM.\n",
        "\n",
        "        # !!! Create the hidden state variable c0, by caling the zeros function of the torch. Pass 2, x.size(0), and 32 as the parameters. Their explanations are given below. This is used for long term memory.\n",
        "        c0 = torch.zeros(2, x.size(0), 32)  # This line initializes the initial cell state (c0) of the LSTM with zeros. The cell state is another type of memory in LSTMs that helps to preserve information over longer periods. The dimensions are the same as the hidden state.\n",
        "\n",
        "        # !!! Pass all inputs to lstm layer. One paramter is x, and the another parameter is the tuple of h0 and c0\n",
        "        out, _ = self.lstm(x, (h0, c0))  # This line passes the input data (x) and the initial hidden and cell states (h0, c0) to the LSTM layer. The LSTM processes the input sequence step-by-step and updates its hidden and cell states accordingly. The output (out) contains the hidden state at each time step, and the _ discards the final cell state.\n",
        "\n",
        "        # !!! As it is done in RNN, extract the hidden state from the last time step\n",
        "        out = self.fc(out[:, -1, :]) # This line extracts the hidden state from the last time step (out[:, -1, :]) and passes it to the fully connected layer (self.fc) to generate the final output.\n",
        "\n",
        "        # The code uses the last hidden state because it effectively summarizes the LSTM's processing of the entire input sequence and is often the most relevant information for generating the final output.\n",
        "\n",
        "        return out"
      ],
      "id": "d0afa32cc5e78a5c",
      "outputs": [],
      "execution_count": 46
    },
    {
      "metadata": {
        "id": "fb7a6fa3acf4e3dc"
      },
      "cell_type": "markdown",
      "source": [
        "### GRU Networks"
      ],
      "id": "fb7a6fa3acf4e3dc"
    },
    {
      "metadata": {
        "ExecuteTime": {
          "end_time": "2024-10-24T02:50:59.315073Z",
          "start_time": "2024-10-24T02:50:59.295897Z"
        },
        "id": "f22110c4828c561b"
      },
      "cell_type": "code",
      "source": [
        "class GRUNet(nn.Module):\n",
        "    def __init__(self, input_size = 1):\n",
        "        super().__init__()\n",
        "\n",
        "        #!!! Define GRU layer similar to the approach provided for LSTM layer above.\n",
        "        self.gru = nn.GRU(\n",
        "            input_size=input_size,\n",
        "            hidden_size=32,\n",
        "            num_layers=2,\n",
        "            batch_first=True,\n",
        "        )\n",
        "\n",
        "        #!!! Define the linear layer\n",
        "        self.fc = nn.Linear(32, 1)\n",
        "\n",
        "    def forward(self, x):\n",
        "        #!!! Create the hidden state variable h0, with the same parameters as in LSTM example\n",
        "        h0 = torch.zeros(2, x.size(0), 32) # Initializes the initial hidden state (h0) of the GRU with zeros.\n",
        "\n",
        "        # Passes the input data x to the gru network. The parameters are x and h0.\n",
        "        out, _ = self.gru(x, h0)  # Passes the input data (x) and the initial hidden state (h0) to the GRU layer. The GRU processes the input sequence and updates its hidden state.  The output (out) contains the hidden state at each time step.\n",
        "\n",
        "        out = self.fc(out[:, -1, :]) # This is the same as in the LSTM code. It extracts the hidden state from the last time step and passes it to the fully connected layer to produce the final output.\n",
        "\n",
        "        return out\n",
        "\n",
        "# Key Differences from LSTM:\n",
        "\n",
        "    # * Simpler Architecture: GRUs have a simpler internal structure than LSTMs, with only two gates (reset and update gates) instead of three. This makes them computationally less expensive.\n",
        "    # * Hidden State: GRUs only have a hidden state, while LSTMs have both a hidden state and a cell state.\n",
        "    # * Performance: LSTMs and GRUs often achieve comparable performance, but GRUs can be faster to train due to their simpler architecture. The best choice depends on the specific task and dataset."
      ],
      "id": "f22110c4828c561b",
      "outputs": [],
      "execution_count": 47
    },
    {
      "metadata": {
        "id": "1cc7ec7e9cab32ea"
      },
      "cell_type": "markdown",
      "source": [
        "### Training loop"
      ],
      "id": "1cc7ec7e9cab32ea"
    },
    {
      "metadata": {
        "ExecuteTime": {
          "end_time": "2024-10-24T02:53:23.722989Z",
          "start_time": "2024-10-24T02:52:45.291294Z"
        },
        "id": "ce89226512bbd3e8"
      },
      "cell_type": "code",
      "source": [
        "net = GRUNet() # This line creates an instance of the GRU network.  GRUNet is a custom class  which contains the architecture of your GRU model\n",
        "\n",
        "criterion = nn.MSELoss() # This defines the loss function to be used during training.  nn.MSELoss() calculates the Mean Squared Error, commonly used for regression tasks where you're predicting a continuous value.\n",
        "\n",
        "optimizer = optim.Adam( #  This creates an Adam optimizer. Adam is a popular optimization algorithm that adapts the learning rate for each parameter.\n",
        "    net.parameters(), #  provides all the trainable parameters of your GRU network to the optimizer.\n",
        "    lr=0.001\n",
        ")\n",
        "\n",
        "for epoch in range(2): # This loop iterates over two training epochs. An epoch means one complete pass through your entire training dataset.\n",
        "\n",
        "    for seqs, labels in dataloader_train: # This inner loop iterates over the batches of data provided by your dataloader_train.  A data loader helps efficiently feed data to your model during training.\n",
        "\n",
        "        batch_size = seqs.shape[0]  # This line dynamically determines the batch size from the data loader. This is useful if your last batch has a different size than the others.\n",
        "\n",
        "        seqs = seqs.view(batch_size, 96, 1)  # This reshapes your input sequences (seqs). The sequences have a length of 96 and a single feature. This reshaping prepares the data to be fed into the GRU network.\n",
        "\n",
        "        #!!! Write the necessary statement to obtain the predictions and assign them to outputs variable.\n",
        "        outputs = net(seqs) # This is where you pass your input sequences to the GRU network (net) to get the predictions (outputs).\n",
        "\n",
        "        #!!! Call the criterion with outputs and labels parameters. You have to apply unsqueeze(1) to the labels. Assign the outcome to the loss variable.\n",
        "        loss = criterion(outputs, labels.unsqueeze(1))# This calculates the loss between your network's predictions (outputs) and the true labels (labels).  labels.unsqueeze(1)  adds an extra dimension to the labels to match the shape of the outputs.\n",
        "\n",
        "        #!!! Write necessary code to clear the gradients\n",
        "        optimizer.zero_grad() # This clears the gradients from the previous iteration.\n",
        "\n",
        "        #!!! Call the proper method of the loss function\n",
        "        loss.backward() # This performs backpropagation. It calculates the gradients of the loss with respect to the network's parameters.\n",
        "\n",
        "        #!!! Call the proper method of the optimizer\n",
        "        optimizer.step() # This updates the network's parameters based on the calculated gradients, aiming to minimize the loss.\n"
      ],
      "id": "ce89226512bbd3e8",
      "outputs": [],
      "execution_count": 48
    },
    {
      "metadata": {
        "id": "4b80b49f98c232b5"
      },
      "cell_type": "markdown",
      "source": [
        "### Evaluation Loop"
      ],
      "id": "4b80b49f98c232b5"
    },
    {
      "metadata": {
        "ExecuteTime": {
          "end_time": "2024-10-24T02:52:21.316447Z",
          "start_time": "2024-10-24T02:52:19.446951Z"
        },
        "id": "fe4f77d27e029b2f",
        "outputId": "52360302-07de-47d0-fe61-a2ad07aab9ef",
        "colab": {
          "base_uri": "https://localhost:8080/"
        }
      },
      "cell_type": "code",
      "source": [
        "mse = torchmetrics.MeanSquaredError() # This line creates an instance of the MeanSquaredError metric from the torchmetrics library. This object will be used to calculate the MSE between the network's predictions and the actual labels.\n",
        "\n",
        "#!!! Write the necessary code to set the network in the evaluation mode\n",
        "net.eval() # This line sets your GRU network to evaluation mode. This is important because certain layers, like dropout, behave differently during training and evaluation.\n",
        "\n",
        "with torch.no_grad(): # This context manager temporarily disables gradient calculations. This is crucial during evaluation because you don't need to update the network's weights anymore. It saves memory and speeds up computation.\n",
        "\n",
        "    for seqs, labels in dataloader_test:\n",
        "        seqs = seqs.view(2, 96, 1) #  This line reshapes your input sequences (seqs) to have a batch size of 2, a sequence length of 96, and a single feature. This is necessary to match the expected input shape of your GRU network.\n",
        "\n",
        "        # Pass seqs to net and squeeze the result\n",
        "        outputs = net(seqs).squeeze() # This line passes the input sequences (seqs) to your GRU network (net) to get the predictions (outputs).  .squeeze() removes any unnecessary dimensions from the output tensor.\n",
        "\n",
        "        #!!! Call the mse with parameters outputs and labels\n",
        "        mse(outputs, labels) # This line updates the mse metric with the network's predictions (outputs) and the corresponding true labels (labels). The mse object internally accumulates the squared errors between the predictions and labels.\n",
        "\n",
        "#!!! Call the compute method of the mse\n",
        "test_mse = mse.compute() #  This line calculates the final MSE value by averaging the accumulated squared errors.\n",
        "\n",
        "print(f\"Test MSE: {test_mse}\")"
      ],
      "id": "fe4f77d27e029b2f",
      "outputs": [
        {
          "output_type": "stream",
          "name": "stdout",
          "text": [
            "Test MSE: 0.07076400518417358\n"
          ]
        }
      ],
      "execution_count": 49
    },
    {
      "metadata": {
        "id": "9003918a35974270"
      },
      "cell_type": "code",
      "outputs": [],
      "execution_count": null,
      "source": [],
      "id": "9003918a35974270"
    }
  ],
  "metadata": {
    "kernelspec": {
      "display_name": "Python 3",
      "language": "python",
      "name": "python3"
    },
    "language_info": {
      "codemirror_mode": {
        "name": "ipython",
        "version": 2
      },
      "file_extension": ".py",
      "mimetype": "text/x-python",
      "name": "python",
      "nbconvert_exporter": "python",
      "pygments_lexer": "ipython2",
      "version": "2.7.6"
    },
    "colab": {
      "provenance": []
    }
  },
  "nbformat": 4,
  "nbformat_minor": 5
}